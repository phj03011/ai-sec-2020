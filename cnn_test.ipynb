{
  "nbformat": 4,
  "nbformat_minor": 0,
  "metadata": {
    "colab": {
      "name": "cnn-test.ipynb",
      "provenance": [],
      "collapsed_sections": [],
      "authorship_tag": "ABX9TyNLrCjG2/X7O49ABwnQAe0g",
      "include_colab_link": true
    },
    "kernelspec": {
      "name": "python3",
      "display_name": "Python 3"
    },
    "accelerator": "GPU"
  },
  "cells": [
    {
      "cell_type": "markdown",
      "metadata": {
        "id": "view-in-github",
        "colab_type": "text"
      },
      "source": [
        "<a href=\"https://colab.research.google.com/github/phj03011/ai-sec-2020/blob/master/cnn_test.ipynb\" target=\"_parent\"><img src=\"https://colab.research.google.com/assets/colab-badge.svg\" alt=\"Open In Colab\"/></a>"
      ]
    },
    {
      "cell_type": "code",
      "metadata": {
        "id": "nI8GUNcRBC1J",
        "colab_type": "code",
        "colab": {}
      },
      "source": [
        "import tensorflow as tf\n",
        "import keras\n",
        "\n",
        "from keras.models import Sequential\n",
        "from keras.layers import Conv2D, Dense, Flatten, MaxPooling2D, AveragePooling2D\n",
        "from keras.optimizers import Adam\n",
        "from keras.losses import sparse_categorical_crossentropy as scc\n",
        "\n",
        "from keras.datasets import cifar10\n",
        "\n",
        "import numpy as np\n",
        "import matplotlib.pyplot as plt"
      ],
      "execution_count": null,
      "outputs": []
    },
    {
      "cell_type": "code",
      "metadata": {
        "id": "NASqdBEGDCUn",
        "colab_type": "code",
        "colab": {}
      },
      "source": [
        "def build_model(width, height, channel):\n",
        "    model = Sequential()\n",
        "\n",
        "    model.add(Conv2D(\n",
        "      filters=16,\n",
        "      kernel_size=(3,3),\n",
        "      padding='same',\n",
        "      activation='relu',\n",
        "      input_shape=(width, height, channel)\n",
        "    ))\n",
        "    model.add(Conv2D(\n",
        "      filters=16,\n",
        "      kernel_size=(3,3),\n",
        "      padding='same',\n",
        "      activation='relu'\n",
        "    ))\n",
        "    model.add(MaxPooling2D(\n",
        "        pool_size=(2,2),\n",
        "        padding='same'\n",
        "    ))\n",
        "\n",
        "    model.add(Conv2D(\n",
        "      filters=32,\n",
        "      kernel_size=(3,3),\n",
        "      padding='same',\n",
        "      activation='relu'\n",
        "    ))\n",
        "    model.add(MaxPooling2D(\n",
        "        pool_size=(2,2),\n",
        "        padding='same'\n",
        "    ))\n",
        "\n",
        "    model.add(Conv2D(\n",
        "      filters=64,\n",
        "      kernel_size=(3,3),\n",
        "      padding='same',\n",
        "      activation='relu'\n",
        "    ))\n",
        "    model.add(MaxPooling2D(\n",
        "        pool_size=(8,8),\n",
        "        padding='same'\n",
        "    ))\n",
        "\n",
        "    model.add(Flatten())\n",
        "    model.add(Dense(\n",
        "        units=640,\n",
        "        activation='relu'\n",
        "    ))\n",
        "    model.add(Dense(\n",
        "        units=10,\n",
        "        activation='softmax'\n",
        "    ))\n",
        "\n",
        "    opt = Adam(learning_rate=0.001)\n",
        "    model.compile(\n",
        "        optimizer=opt,\n",
        "        loss=scc,\n",
        "        metrics=['accuracy']\n",
        "    )\n",
        "\n",
        "    return model"
      ],
      "execution_count": null,
      "outputs": []
    },
    {
      "cell_type": "code",
      "metadata": {
        "id": "P9ruS_OsF389",
        "colab_type": "code",
        "colab": {
          "base_uri": "https://localhost:8080/",
          "height": 756
        },
        "outputId": "d5e3964e-92c2-47ef-abc8-50e0bb0c9d55"
      },
      "source": [
        "(x_train, y_train), (x_test, y_test) = cifar10.load_data()\n",
        "\n",
        "model = build_model(x_train.shape[1], x_train.shape[2], x_train.shape[3])\n",
        "\n",
        "hist = model.fit(\n",
        "    x_train, y_train,\n",
        "    batch_size=32,\n",
        "    epochs=20,\n",
        "    verbose=1,\n",
        "    shuffle=True, validation_split=0.1\n",
        ")\n",
        "\n",
        "model.evaluate(x_test, y_test, verbose=1)"
      ],
      "execution_count": null,
      "outputs": [
        {
          "output_type": "stream",
          "text": [
            "Epoch 1/20\n",
            "1407/1407 [==============================] - 5s 3ms/step - loss: 1.6622 - accuracy: 0.4007 - val_loss: 1.4519 - val_accuracy: 0.4670\n",
            "Epoch 2/20\n",
            "1407/1407 [==============================] - 4s 3ms/step - loss: 1.2977 - accuracy: 0.5363 - val_loss: 1.2027 - val_accuracy: 0.5684\n",
            "Epoch 3/20\n",
            "1407/1407 [==============================] - 4s 3ms/step - loss: 1.1613 - accuracy: 0.5903 - val_loss: 1.1559 - val_accuracy: 0.5930\n",
            "Epoch 4/20\n",
            "1407/1407 [==============================] - 4s 3ms/step - loss: 1.0590 - accuracy: 0.6247 - val_loss: 1.0757 - val_accuracy: 0.6226\n",
            "Epoch 5/20\n",
            "1407/1407 [==============================] - 4s 3ms/step - loss: 0.9889 - accuracy: 0.6519 - val_loss: 1.1117 - val_accuracy: 0.6144\n",
            "Epoch 6/20\n",
            "1407/1407 [==============================] - 4s 3ms/step - loss: 0.9375 - accuracy: 0.6698 - val_loss: 1.0058 - val_accuracy: 0.6492\n",
            "Epoch 7/20\n",
            "1407/1407 [==============================] - 4s 3ms/step - loss: 0.8878 - accuracy: 0.6883 - val_loss: 1.0106 - val_accuracy: 0.6548\n",
            "Epoch 8/20\n",
            "1407/1407 [==============================] - 4s 3ms/step - loss: 0.8593 - accuracy: 0.6988 - val_loss: 0.9425 - val_accuracy: 0.6784\n",
            "Epoch 9/20\n",
            "1407/1407 [==============================] - 5s 3ms/step - loss: 0.8284 - accuracy: 0.7074 - val_loss: 0.9390 - val_accuracy: 0.6764\n",
            "Epoch 10/20\n",
            "1407/1407 [==============================] - 4s 3ms/step - loss: 0.8024 - accuracy: 0.7186 - val_loss: 1.0099 - val_accuracy: 0.6596\n",
            "Epoch 11/20\n",
            "1407/1407 [==============================] - 4s 3ms/step - loss: 0.7785 - accuracy: 0.7252 - val_loss: 0.9751 - val_accuracy: 0.6728\n",
            "Epoch 12/20\n",
            "1407/1407 [==============================] - 4s 3ms/step - loss: 0.7514 - accuracy: 0.7324 - val_loss: 0.9940 - val_accuracy: 0.6648\n",
            "Epoch 13/20\n",
            "1407/1407 [==============================] - 4s 3ms/step - loss: 0.7341 - accuracy: 0.7402 - val_loss: 0.9608 - val_accuracy: 0.6880\n",
            "Epoch 14/20\n",
            "1407/1407 [==============================] - 4s 3ms/step - loss: 0.7147 - accuracy: 0.7444 - val_loss: 0.9850 - val_accuracy: 0.6768\n",
            "Epoch 15/20\n",
            "1407/1407 [==============================] - 5s 3ms/step - loss: 0.7007 - accuracy: 0.7510 - val_loss: 1.0555 - val_accuracy: 0.6620\n",
            "Epoch 16/20\n",
            "1407/1407 [==============================] - 5s 3ms/step - loss: 0.6819 - accuracy: 0.7586 - val_loss: 0.9936 - val_accuracy: 0.6820\n",
            "Epoch 17/20\n",
            "1407/1407 [==============================] - 5s 3ms/step - loss: 0.6725 - accuracy: 0.7622 - val_loss: 1.0050 - val_accuracy: 0.6818\n",
            "Epoch 18/20\n",
            "1407/1407 [==============================] - 4s 3ms/step - loss: 0.6599 - accuracy: 0.7654 - val_loss: 0.9991 - val_accuracy: 0.6742\n",
            "Epoch 19/20\n",
            "1407/1407 [==============================] - 4s 3ms/step - loss: 0.6385 - accuracy: 0.7733 - val_loss: 1.0434 - val_accuracy: 0.6718\n",
            "Epoch 20/20\n",
            "1407/1407 [==============================] - 4s 3ms/step - loss: 0.6412 - accuracy: 0.7739 - val_loss: 1.0113 - val_accuracy: 0.6876\n",
            "313/313 [==============================] - 1s 2ms/step - loss: 1.0523 - accuracy: 0.6786\n"
          ],
          "name": "stdout"
        },
        {
          "output_type": "execute_result",
          "data": {
            "text/plain": [
              "[1.0523109436035156, 0.678600013256073]"
            ]
          },
          "metadata": {
            "tags": []
          },
          "execution_count": 15
        }
      ]
    },
    {
      "cell_type": "code",
      "metadata": {
        "id": "hFTaXVQlIOiP",
        "colab_type": "code",
        "colab": {
          "base_uri": "https://localhost:8080/",
          "height": 545
        },
        "outputId": "d03c4d0b-b80c-496e-f729-63bf9c8a12b9"
      },
      "source": [
        "plt.plot(hist.history['loss'])\n",
        "plt.title(\"loss history\")\n",
        "plt.show()\n",
        "\n",
        "plt.plot(hist.history['accuracy'])\n",
        "plt.title(\"acc history\")\n",
        "plt.show()"
      ],
      "execution_count": null,
      "outputs": [
        {
          "output_type": "display_data",
          "data": {
            "image/png": "[encoded data removed]",
            "text/plain": [
              "<Figure size 432x288 with 1 Axes>"
            ]
          },
          "metadata": {
            "tags": [],
            "needs_background": "light"
          }
        },
        {
          "output_type": "display_data",
          "data": {
            "image/png": "[encoded data removed]",
            "text/plain": [
              "<Figure size 432x288 with 1 Axes>"
            ]
          },
          "metadata": {
            "tags": [],
            "needs_background": "light"
          }
        }
      ]
    }
  ]
}